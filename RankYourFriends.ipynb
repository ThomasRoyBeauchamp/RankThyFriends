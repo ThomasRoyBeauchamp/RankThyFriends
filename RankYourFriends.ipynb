{
 "cells": [
  {
   "cell_type": "code",
   "execution_count": 2,
   "metadata": {},
   "outputs": [
    {
     "name": "stdout",
     "output_type": "stream",
     "text": [
      "Player numbers are as follows:\n",
      "1 Matt\n",
      "2 Rachel\n",
      "3 Sam\n",
      "4 Sarah\n",
      "5 Tom\n"
     ]
    }
   ],
   "source": [
    "import random\n",
    "import numpy as np\n",
    "\n",
    "#Converts an order in the form of a string of numbers into a matrix describing which players are ranked above which other players. \n",
    "def orderMatrix(order, numPlayers):\n",
    "    matrix = np.zeros((numPlayers,numPlayers))\n",
    "    unrankedPlayers = list(range(1, numPlayers+1))\n",
    "    for x in order:\n",
    "        if x != \"0\":\n",
    "            unrankedPlayers.remove(int(x))\n",
    "    row = np.ones(numPlayers)\n",
    "    for x in order:\n",
    "        #The row starts as all 1s, indicating a preference above all other players. As each player is then placed, the 1 in their position is removed\n",
    "        #to indicate that subsequently ranked players aren't preferred over formerly ranked players.\n",
    "        if x != \"0\":\n",
    "            row[int(x)-1] -= 1\n",
    "            matrix[int(x)-1] += row\n",
    "        else:\n",
    "            #A '0' in the ranking is a placeholder for \"all other players in an unspecified order\", this system is to speed up difficult and\n",
    "            #inconsequential decision making.\n",
    "            for y in unrankedPlayers:\n",
    "                row[y-1] -= 1\n",
    "            for y in unrankedPlayers:\n",
    "                matrix[y-1] += row\n",
    "    return matrix;\n",
    "\n",
    "#Takes the score matrix and for each combination of two players counts how many times they were ranked above one another. Whichever player was ranked\n",
    "#higher more often is given a 'win', and the overall order is decided by how many 'wins' each player has. Players with the same number of wins tie.\n",
    "def rankings(score, numPlayers):\n",
    "    wins = np.zeros(numPlayers)\n",
    "    for x in range(numPlayers):\n",
    "        for y in range(numPlayers):\n",
    "            if x < y:\n",
    "                if score[x, y] > score [y, x]:\n",
    "                    wins[x] += 1\n",
    "                elif score[y, x] > score [x, y]:\n",
    "                    wins[y] += 1\n",
    "    ranks = np.zeros((3, numPlayers))\n",
    "    ranks[0] += np.arange(1, numPlayers+1)\n",
    "    ranks[1] += wins\n",
    "    for x in range(numPlayers):\n",
    "        playersAbove = 0\n",
    "        for y in range(numPlayers):\n",
    "            if ranks[1, x] < ranks[1, y]:\n",
    "                playersAbove += 1\n",
    "        ranks[2,x] = playersAbove + 1\n",
    "    return ranks;\n",
    "#The 'ranks' matrix is unintuitive and probably needs a better name. The top row is just the player numbers, which is normally handled by indices but\n",
    "#this matrix gets sorted later so this is necessary to keep track of the players. The second row is how many wins each player has and the third is their\n",
    "#position in the overall ranking.\n",
    "\n",
    "#This just makes sure that the strings entered by players are valid orders. A valid order is a string of numbers less than or equal to the number of\n",
    "#players and with no repeats.\n",
    "def isValid(order, numPlayers):\n",
    "    try:\n",
    "        values = []\n",
    "        for x in order:\n",
    "            if int(x) <= numPlayers:\n",
    "                values.append(int(x))\n",
    "            else:\n",
    "                return False;\n",
    "        if len(values) == len(list(set(values))):\n",
    "            return True;\n",
    "        else:\n",
    "            return False;\n",
    "    except:\n",
    "        return False;\n",
    "\n",
    "players = [\"Matt\", \"Rachel\", \"Sam\", \"Sarah\", \"Tom\"]\n",
    "numPlayers = len(players)\n",
    "\n",
    "categories = [\"Peg-ability\"]\n",
    "\n",
    "print(\"Player numbers are as follows:\")\n",
    "for x in range(numPlayers):\n",
    "    print(x+1, players[x])"
   ]
  },
  {
   "cell_type": "code",
   "execution_count": 4,
   "metadata": {},
   "outputs": [
    {
     "name": "stdin",
     "output_type": "stream",
     "text": [
      "Enter your chosen order as a string of numbers. hello\n"
     ]
    },
    {
     "name": "stdout",
     "output_type": "stream",
     "text": [
      "The order you entered is not valid.\n"
     ]
    },
    {
     "name": "stdin",
     "output_type": "stream",
     "text": [
      "Enter your chosen order as a string of numbers. 3141592\n"
     ]
    },
    {
     "name": "stdout",
     "output_type": "stream",
     "text": [
      "The order you entered is not valid.\n"
     ]
    },
    {
     "name": "stdin",
     "output_type": "stream",
     "text": [
      "Enter your chosen order as a string of numbers. 11111\n"
     ]
    },
    {
     "name": "stdout",
     "output_type": "stream",
     "text": [
      "The order you entered is not valid.\n"
     ]
    },
    {
     "name": "stdin",
     "output_type": "stream",
     "text": [
      "Enter your chosen order as a string of numbers. 7\n"
     ]
    },
    {
     "name": "stdout",
     "output_type": "stream",
     "text": [
      "The order you entered is not valid.\n"
     ]
    },
    {
     "name": "stdin",
     "output_type": "stream",
     "text": [
      "Enter your chosen order as a string of numbers. 2.4\n"
     ]
    },
    {
     "name": "stdout",
     "output_type": "stream",
     "text": [
      "The order you entered is not valid.\n"
     ]
    },
    {
     "name": "stdin",
     "output_type": "stream",
     "text": [
      "Enter your chosen order as a string of numbers. 123\n",
      "Enter your chosen order as a string of numbers. 1204\n",
      "Enter your chosen order as a string of numbers. 21534\n",
      "Enter your chosen order as a string of numbers. 215\n",
      "Enter your chosen order as a string of numbers. 1325\n"
     ]
    },
    {
     "name": "stdout",
     "output_type": "stream",
     "text": [
      "[[0. 3. 5. 5. 5.]\n",
      " [2. 0. 4. 5. 5.]\n",
      " [0. 1. 0. 4. 2.]\n",
      " [0. 0. 0. 0. 0.]\n",
      " [0. 0. 2. 4. 0.]]\n"
     ]
    }
   ],
   "source": [
    "score = np.zeros((numPlayers,numPlayers))\n",
    "category = random.choice(categories)\n",
    "print(\"The category is:\",category)\n",
    "\n",
    "for p in range(5):    \n",
    "    validOrder = False\n",
    "    while not(validOrder):\n",
    "        order = str(input(\"Enter your chosen order as a string of numbers.\"))\n",
    "        if isValid(order, numPlayers):\n",
    "            validOrder = True\n",
    "        else:\n",
    "            print(\"The order you entered is not valid.\")\n",
    "    score += orderMatrix(order, numPlayers)\n",
    "\n",
    "print(score)"
   ]
  },
  {
   "cell_type": "code",
   "execution_count": 5,
   "metadata": {},
   "outputs": [
    {
     "name": "stdout",
     "output_type": "stream",
     "text": [
      "[[1. 2. 3. 4. 5.]\n",
      " [4. 3. 1. 0. 1.]\n",
      " [1. 2. 3. 5. 3.]] \n",
      " [[1. 2. 3. 5. 4.]\n",
      " [4. 3. 1. 1. 0.]\n",
      " [1. 2. 3. 3. 5.]]\n"
     ]
    }
   ],
   "source": [
    "results = rankings(score, numPlayers)\n",
    "#No prizes for guessing which is the only line in this whole thing that I basically ripped from Stack Overflow\n",
    "sortedResults = results[:,results[2, :].argsort()]\n",
    "print(results,\"\\n\", sortedResults)"
   ]
  },
  {
   "cell_type": "code",
   "execution_count": 53,
   "metadata": {},
   "outputs": [
    {
     "name": "stdout",
     "output_type": "stream",
     "text": [
      "[[1. 1. 5. 1. 4.]\n",
      " [2. 1. 4. 3. 4.]\n",
      " [1. 2. 1. 0. 2.]]\n"
     ]
    }
   ],
   "source": [
    "#2 points for a guess being exact, 1 point for being one away. I haven't written the bit for entering guesses yet. I was going to do a more complicated\n",
    "#system for determining the number of points to give with tied rankings but that's a pretty low priority, I can do that once the rest of the game\n",
    "#actually works.\n",
    "guesses = np.zeros((3, 5))\n",
    "guesses[0] += np.array([1, 1, 5, 1, 4])\n",
    "guesses[1] += results[2]\n",
    "for x in range(5):\n",
    "    if guesses[0,x] == guesses[1,x]:\n",
    "        guesses[2,x] = 2\n",
    "    elif int(abs(guesses[0,x]-guesses[1,x])) == 1:\n",
    "        guesses[2,x] = 1\n",
    "print(guesses)"
   ]
  },
  {
   "cell_type": "code",
   "execution_count": null,
   "metadata": {},
   "outputs": [],
   "source": [
    "#This is something ChatGPT spat out when I asked it how to make a discord bot, no idea if it works yet or what all of it does.\n",
    "import discord\n",
    "from discord.ext import commands\n",
    "\n",
    "# Bot token\n",
    "TOKEN = 'your_bot_token_here'\n",
    "\n",
    "# Command prefix for direct messages\n",
    "bot = commands.Bot(command_prefix='!', intents=discord.Intents.default())\n",
    "\n",
    "\n",
    "@bot.event\n",
    "async def on_ready():\n",
    "    print(f'Logged in as {bot.user.name}')\n",
    "\n",
    "\n",
    "@bot.event\n",
    "async def on_message(message):\n",
    "    if message.author == bot.user:\n",
    "        return\n",
    "\n",
    "    if isinstance(message.channel, discord.DMChannel):\n",
    "        # Concatenate inputs from multiple players\n",
    "        inputs = message.content\n",
    "\n",
    "        # Get the guild (server) you want to send the output message to\n",
    "        guild = bot.get_guild(your_guild_id_here)  # Replace your_guild_id_here with the guild ID\n",
    "\n",
    "        # Get the channel within the guild where you want to send the output message\n",
    "        output_channel = guild.get_channel(your_channel_id_here)  # Replace your_channel_id_here with the channel ID\n",
    "\n",
    "        # Send the concatenated inputs as a message to the specified channel\n",
    "        await output_channel.send(f'Concatenated inputs: {inputs}')\n",
    "\n",
    "    await bot.process_commands(message)\n",
    "\n",
    "\n",
    "bot.run(TOKEN)\n"
   ]
  }
 ],
 "metadata": {
  "kernelspec": {
   "display_name": "Python 3 (ipykernel)",
   "language": "python",
   "name": "python3"
  },
  "language_info": {
   "codemirror_mode": {
    "name": "ipython",
    "version": 3
   },
   "file_extension": ".py",
   "mimetype": "text/x-python",
   "name": "python",
   "nbconvert_exporter": "python",
   "pygments_lexer": "ipython3",
   "version": "3.11.7"
  }
 },
 "nbformat": 4,
 "nbformat_minor": 4
}
